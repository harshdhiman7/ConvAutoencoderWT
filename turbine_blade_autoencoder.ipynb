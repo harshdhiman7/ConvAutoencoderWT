{
 "cells": [
  {
   "cell_type": "code",
   "execution_count": 8,
   "metadata": {},
   "outputs": [],
   "source": [
    "import os\n",
    "import numpy as np\n",
    "import tensorflow as tf\n",
    "from tensorflow.keras import layers, models\n",
    "from tensorflow.keras.preprocessing.image import load_img, img_to_array\n",
    "from tensorflow.keras.callbacks import EarlyStopping\n",
    "import matplotlib.pyplot as plt"
   ]
  },
  {
   "cell_type": "code",
   "execution_count": 3,
   "metadata": {},
   "outputs": [],
   "source": [
    "# Load and preprocess images from a directory\n",
    "def load_and_preprocess(path, target_size=(220, 220)):\n",
    "    images = []\n",
    "    for filename in os.listdir(path):\n",
    "        if filename.endswith((\".jpg\", \".jpeg\", \".png\")):\n",
    "            image_path = os.path.join(path, filename)\n",
    "            img = load_img(image_path, target_size=target_size)\n",
    "            img_array = img_to_array(img) / 255.0  # Normalize pixel values to [0, 1]\n",
    "            images.append(img_array)\n",
    "    return np.array(images)\n",
    "\n",
    "# Example: Load images from a directory\n",
    "path = r'/Users/harshdhiman/Documents/Research /Codes/Turbine Blade Damage Detection/ConvAutoencoderWT/Edge_Area'\n",
    "image_data = load_and_preprocess(path)\n"
   ]
  },
  {
   "cell_type": "code",
   "execution_count": 4,
   "metadata": {},
   "outputs": [
    {
     "data": {
      "text/plain": [
       "(241, 220, 220, 3)"
      ]
     },
     "execution_count": 4,
     "metadata": {},
     "output_type": "execute_result"
    }
   ],
   "source": [
    "image_data.shape"
   ]
  },
  {
   "cell_type": "code",
   "execution_count": 58,
   "metadata": {},
   "outputs": [],
   "source": [
    "# Define the autoencoder model\n",
    "def build_autoencoder(input_shape):\n",
    "    model = models.Sequential()\n",
    "\n",
    "    # Encoder\n",
    "    model.add(layers.InputLayer(input_shape=input_shape))\n",
    "    #model.add(layers.Rescaling(scale=1./255))\n",
    "    model.add(layers.Conv2D(32, (3, 3), activation='relu',padding='same'))\n",
    "    model.add(layers.BatchNormalization())\n",
    "    model.add(layers.MaxPooling2D((2, 2), padding='same'))\n",
    "    model.add(layers.Conv2D(64, (3, 3), activation='relu', padding='same'))\n",
    "    model.add(layers.BatchNormalization())\n",
    "    model.add(layers.MaxPooling2D((2, 2), padding='same'))\n",
    "    model.add(layers.Conv2D(128, (3, 3), activation='relu', padding='same'))\n",
    "    model.add(layers.MaxPooling2D((2, 2), padding='same'))\n",
    "\n",
    "    # Decoder\n",
    "    model.add(layers.Conv2D(128, (3, 3), activation='relu', padding='same'))\n",
    "    model.add(layers.UpSampling2D((2, 2)))\n",
    "    model.add(layers.Conv2D(64, (3, 3), activation='relu', padding='same'))\n",
    "    model.add(layers.UpSampling2D((2, 2)))\n",
    "    model.add(layers.Conv2D(32, (3, 3), activation='relu', padding='same'))\n",
    "    model.add(layers.Conv2D(3,(3,3),activation='relu'))\n",
    "    model.add(layers.UpSampling2D((2, 2)))\n",
    "    model.add(layers.Conv2D(3,(3, 3), activation='sigmoid', padding='same'))\n",
    "    #model.add(layers.UpSampling2D((2, 2))) # 224x224x32\n",
    "    #model.add(layers.Conv2D(3, (3, 3), activation='relu')) # 222 x 222 x 3\n",
    "    #model.add(layers.Conv2D(3, (3, 3), activation='sigmoid')) # 220 x 220 x 3\n",
    "    return model\n",
    "\n",
    "# Build the autoencoder\n",
    "input_shape = (220, 220, 3)\n",
    "autoencoder = build_autoencoder(input_shape)\n",
    "autoencoder.compile(optimizer='adam', loss='mse',metrics=['accuracy'])  # Mean Squared Error loss for image reconstruction"
   ]
  },
  {
   "cell_type": "code",
   "execution_count": 59,
   "metadata": {},
   "outputs": [
    {
     "name": "stdout",
     "output_type": "stream",
     "text": [
      "Model: \"sequential_7\"\n",
      "_________________________________________________________________\n",
      " Layer (type)                Output Shape              Param #   \n",
      "=================================================================\n",
      " conv2d_49 (Conv2D)          (None, 220, 220, 32)      896       \n",
      "                                                                 \n",
      " batch_normalization_14 (Ba  (None, 220, 220, 32)      128       \n",
      " tchNormalization)                                               \n",
      "                                                                 \n",
      " max_pooling2d_21 (MaxPooli  (None, 110, 110, 32)      0         \n",
      " ng2D)                                                           \n",
      "                                                                 \n",
      " conv2d_50 (Conv2D)          (None, 110, 110, 64)      18496     \n",
      "                                                                 \n",
      " batch_normalization_15 (Ba  (None, 110, 110, 64)      256       \n",
      " tchNormalization)                                               \n",
      "                                                                 \n",
      " max_pooling2d_22 (MaxPooli  (None, 55, 55, 64)        0         \n",
      " ng2D)                                                           \n",
      "                                                                 \n",
      " conv2d_51 (Conv2D)          (None, 55, 55, 128)       73856     \n",
      "                                                                 \n",
      " max_pooling2d_23 (MaxPooli  (None, 28, 28, 128)       0         \n",
      " ng2D)                                                           \n",
      "                                                                 \n",
      " conv2d_52 (Conv2D)          (None, 28, 28, 128)       147584    \n",
      "                                                                 \n",
      " up_sampling2d_21 (UpSampli  (None, 56, 56, 128)       0         \n",
      " ng2D)                                                           \n",
      "                                                                 \n",
      " conv2d_53 (Conv2D)          (None, 56, 56, 64)        73792     \n",
      "                                                                 \n",
      " up_sampling2d_22 (UpSampli  (None, 112, 112, 64)      0         \n",
      " ng2D)                                                           \n",
      "                                                                 \n",
      " conv2d_54 (Conv2D)          (None, 112, 112, 32)      18464     \n",
      "                                                                 \n",
      " conv2d_55 (Conv2D)          (None, 110, 110, 3)       867       \n",
      "                                                                 \n",
      " up_sampling2d_23 (UpSampli  (None, 220, 220, 3)       0         \n",
      " ng2D)                                                           \n",
      "                                                                 \n",
      " conv2d_56 (Conv2D)          (None, 220, 220, 3)       84        \n",
      "                                                                 \n",
      "=================================================================\n",
      "Total params: 334423 (1.28 MB)\n",
      "Trainable params: 334231 (1.27 MB)\n",
      "Non-trainable params: 192 (768.00 Byte)\n",
      "_________________________________________________________________\n"
     ]
    }
   ],
   "source": [
    "autoencoder.summary()"
   ]
  },
  {
   "cell_type": "code",
   "execution_count": 60,
   "metadata": {},
   "outputs": [],
   "source": [
    "early_stopping_callback = EarlyStopping(monitor='val_loss', patience=5, restore_best_weights=True)"
   ]
  },
  {
   "cell_type": "code",
   "execution_count": 61,
   "metadata": {},
   "outputs": [
    {
     "name": "stdout",
     "output_type": "stream",
     "text": [
      "Epoch 1/20\n",
      "4/4 [==============================] - 10s 2s/step - loss: 0.0663 - accuracy: 0.2015 - val_loss: 0.0631 - val_accuracy: 0.0048\n",
      "Epoch 2/20\n",
      "4/4 [==============================] - 9s 2s/step - loss: 0.0533 - accuracy: 0.0228 - val_loss: 0.0603 - val_accuracy: 0.0057\n",
      "Epoch 3/20\n",
      "4/4 [==============================] - 9s 2s/step - loss: 0.0439 - accuracy: 0.0347 - val_loss: 0.0538 - val_accuracy: 0.0079\n",
      "Epoch 4/20\n",
      "4/4 [==============================] - 9s 2s/step - loss: 0.0330 - accuracy: 0.0913 - val_loss: 0.0450 - val_accuracy: 0.0397\n",
      "Epoch 5/20\n",
      "4/4 [==============================] - 10s 2s/step - loss: 0.0260 - accuracy: 0.2712 - val_loss: 0.0413 - val_accuracy: 0.0583\n",
      "Epoch 6/20\n",
      "4/4 [==============================] - 10s 2s/step - loss: 0.0207 - accuracy: 0.2293 - val_loss: 0.0413 - val_accuracy: 0.9716\n",
      "Epoch 7/20\n",
      "4/4 [==============================] - 10s 2s/step - loss: 0.0179 - accuracy: 0.8021 - val_loss: 0.0389 - val_accuracy: 0.9848\n",
      "Epoch 8/20\n",
      "4/4 [==============================] - 10s 2s/step - loss: 0.0166 - accuracy: 0.8230 - val_loss: 0.0375 - val_accuracy: 0.9908\n",
      "Epoch 9/20\n",
      "4/4 [==============================] - 11s 3s/step - loss: 0.0161 - accuracy: 0.8551 - val_loss: 0.0368 - val_accuracy: 0.9828\n",
      "Epoch 10/20\n",
      "4/4 [==============================] - 11s 3s/step - loss: 0.0162 - accuracy: 0.8690 - val_loss: 0.0366 - val_accuracy: 0.9908\n",
      "Epoch 11/20\n",
      "4/4 [==============================] - 11s 3s/step - loss: 0.0160 - accuracy: 0.8714 - val_loss: 0.0351 - val_accuracy: 0.9872\n",
      "Epoch 12/20\n",
      "4/4 [==============================] - 11s 3s/step - loss: 0.0157 - accuracy: 0.8651 - val_loss: 0.0349 - val_accuracy: 0.9908\n",
      "Epoch 13/20\n",
      "4/4 [==============================] - 12s 3s/step - loss: 0.0154 - accuracy: 0.8615 - val_loss: 0.0361 - val_accuracy: 0.9908\n",
      "Epoch 14/20\n",
      "4/4 [==============================] - 11s 3s/step - loss: 0.0152 - accuracy: 0.8576 - val_loss: 0.0356 - val_accuracy: 0.9909\n",
      "Epoch 15/20\n",
      "4/4 [==============================] - 11s 3s/step - loss: 0.0151 - accuracy: 0.9522 - val_loss: 0.0357 - val_accuracy: 0.9909\n",
      "Epoch 16/20\n",
      "4/4 [==============================] - 11s 3s/step - loss: 0.0150 - accuracy: 0.9858 - val_loss: 0.0348 - val_accuracy: 0.9909\n",
      "Epoch 17/20\n",
      "4/4 [==============================] - 11s 3s/step - loss: 0.0148 - accuracy: 0.9838 - val_loss: 0.0348 - val_accuracy: 0.9909\n",
      "Epoch 18/20\n",
      "4/4 [==============================] - 12s 3s/step - loss: 0.0149 - accuracy: 0.9872 - val_loss: 0.0345 - val_accuracy: 0.9909\n",
      "Epoch 19/20\n",
      "4/4 [==============================] - 11s 3s/step - loss: 0.0148 - accuracy: 0.9852 - val_loss: 0.0343 - val_accuracy: 0.9913\n",
      "Epoch 20/20\n",
      "4/4 [==============================] - 11s 3s/step - loss: 0.0146 - accuracy: 0.9849 - val_loss: 0.0337 - val_accuracy: 0.9911\n"
     ]
    },
    {
     "data": {
      "text/plain": [
       "<keras.src.callbacks.History at 0x163c16cd0>"
      ]
     },
     "execution_count": 61,
     "metadata": {},
     "output_type": "execute_result"
    }
   ],
   "source": [
    "# Train the autoencoder (using the same data for input and target)\n",
    "autoencoder.fit(image_data,image_data, epochs=20, batch_size=64, shuffle=True,\n",
    "                validation_split=0.1,verbose=1,callbacks=[early_stopping_callback])"
   ]
  },
  {
   "cell_type": "code",
   "execution_count": 62,
   "metadata": {},
   "outputs": [
    {
     "name": "stdout",
     "output_type": "stream",
     "text": [
      "8/8 [==============================] - 3s 316ms/step\n"
     ]
    }
   ],
   "source": [
    "# Reconstruct images\n",
    "reconstructed_images = autoencoder.predict(image_data)"
   ]
  },
  {
   "cell_type": "markdown",
   "metadata": {},
   "source": [
    "Visualize pixel distributions of actual and reconstructed image"
   ]
  },
  {
   "cell_type": "code",
   "execution_count": 102,
   "metadata": {},
   "outputs": [
    {
     "data": {
      "image/png": "[encoded data removed]",
      "text/plain": [
       "<Figure size 640x480 with 1 Axes>"
      ]
     },
     "metadata": {},
     "output_type": "display_data"
    }
   ],
   "source": [
    "k=np.random.randint(0,image_data.shape[0])\n",
    "img=reconstructed_images[k].reshape(-1,1)\n",
    "plt.hist(img,bins=10,color='red')\n",
    "plt.hist(image_data[k].reshape(-1,1),bins=10,color='blue')\n",
    "plt.show()"
   ]
  }
 ],
 "metadata": {
  "kernelspec": {
   "display_name": "Python 3",
   "language": "python",
   "name": "python3"
  },
  "language_info": {
   "codemirror_mode": {
    "name": "ipython",
    "version": 3
   },
   "file_extension": ".py",
   "mimetype": "text/x-python",
   "name": "python",
   "nbconvert_exporter": "python",
   "pygments_lexer": "ipython3",
   "version": "3.11.4"
  }
 },
 "nbformat": 4,
 "nbformat_minor": 2
}
